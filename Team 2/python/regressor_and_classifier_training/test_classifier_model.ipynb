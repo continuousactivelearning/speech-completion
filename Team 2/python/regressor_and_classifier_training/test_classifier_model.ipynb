{
 "cells": [
  {
   "cell_type": "code",
   "execution_count": null,
   "id": "c39c2df4",
   "metadata": {},
   "outputs": [],
   "source": [
    "import pandas as pd\n",
    "import numpy as np\n",
    "import onnxruntime as ort\n",
    "from tensorflow.keras.preprocessing.sequence import pad_sequences\n",
    "\n",
    "# Params\n",
    "INPUT_PATH = \"./progress_added2.csv\"\n",
    "MODEL_PATH = \"./progress_lstm_model.onnx\"\n",
    "EMBED_DIM = 384\n",
    "\n",
    "# Load and prepare data\n",
    "df = pd.read_csv(INPUT_PATH)\n",
    "df = df[df[\"text\"].notnull() & df[\"text\"].str.strip().astype(bool)]\n",
    "df[\"embedding\"] = df[\"embedding\"].apply(lambda x: np.array(eval(x), dtype=np.float32))\n",
    "\n",
    "Sort rows by time (not grouped, just one file)\n",
    "df = df.sort_values(\"startsec\")\n",
    "\n",
    "# Build progressive sequences\n",
    "X = []\n",
    "sequence = []\n",
    "for _, row in df.iterrows():\n",
    "    sequence.append(row[\"embedding\"])\n",
    "    X.append(sequence.copy())  # Important: use .copy()\n",
    "\n",
    "# Pad\n",
    "X_padded = pad_sequences(X, dtype=\"float32\", padding=\"post\")\n",
    "\n",
    "# Load ONNX model\n",
    "session = ort.InferenceSession(\"progress_lstm_model.onnx\", providers=[\"CPUExecutionProvider\"])\n",
    "input_name = session.get_inputs()[0].name\n",
    "output_name = session.get_outputs()[0].name\n",
    "\n",
    "# Predict\n",
    "outputs = session.run([output_name], {input_name: X_padded})\n",
    "y_pred = np.argmax(outputs[0], axis=1)\n",
    "\n",
    "df[\"predicted_progress_class\"] = y_pred\n",
    "print(df[[\"start\", \"end\", \"text\", \"predicted_progress_class\"]])"
   ]
  }
 ],
 "metadata": {
  "kernelspec": {
   "display_name": "Python 3",
   "language": "python",
   "name": "python3"
  },
  "language_info": {
   "name": "python",
   "version": "3.10.10"
  }
 },
 "nbformat": 4,
 "nbformat_minor": 5
}
