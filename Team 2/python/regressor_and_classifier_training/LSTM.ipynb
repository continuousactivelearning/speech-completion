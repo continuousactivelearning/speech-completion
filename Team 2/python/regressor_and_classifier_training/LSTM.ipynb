{
 "cells": [
  {
   "cell_type": "code",
   "execution_count": 1,
   "id": "47dc381f-1776-4f16-81e3-05d7749a19cb",
   "metadata": {},
   "outputs": [
    {
     "name": "stdout",
     "output_type": "stream",
     "text": [
      "Loaded 2622 rows (without noise)\n"
     ]
    },
    {
     "name": "stderr",
     "output_type": "stream",
     "text": [
      "100%|████████████████████| 16/16 [00:00<00:00, 118.47it/s]\n"
     ]
    },
    {
     "name": "stdout",
     "output_type": "stream",
     "text": [
      "Prepared 2622 sequences\n",
      "Train size: 2097, Test size: 525\n"
     ]
    },
    {
     "name": "stderr",
     "output_type": "stream",
     "text": [
      "C:\\Users\\ved\\Desktop\\Speech-Completition-Prediction\\python\\.venv\\Lib\\site-packages\\keras\\src\\layers\\core\\masking.py:48: UserWarning: Do not pass an `input_shape`/`input_dim` argument to a layer. When using Sequential models, prefer using an `Input(shape)` object as the first layer in the model instead.\n",
      "  super().__init__(**kwargs)\n"
     ]
    },
    {
     "data": {
      "text/html": [
       "<pre style=\"white-space:pre;overflow-x:auto;line-height:normal;font-family:Menlo,'DejaVu Sans Mono',consolas,'Courier New',monospace\"><span style=\"font-weight: bold\">Model: \"sequential\"</span>\n",
       "</pre>\n"
      ],
      "text/plain": [
       "\u001b[1mModel: \"sequential\"\u001b[0m\n"
      ]
     },
     "metadata": {},
     "output_type": "display_data"
    },
    {
     "data": {
      "text/html": [
       "<pre style=\"white-space:pre;overflow-x:auto;line-height:normal;font-family:Menlo,'DejaVu Sans Mono',consolas,'Courier New',monospace\">┏━━━━━━━━━━━━━━━━━━━━━━━┳━━━━━━━━━━━━━━━━━━┳━━━━━━━━━━┓\n",
       "┃<span style=\"font-weight: bold\"> Layer (type)          </span>┃<span style=\"font-weight: bold\"> Output Shape     </span>┃<span style=\"font-weight: bold\">  Param # </span>┃\n",
       "┡━━━━━━━━━━━━━━━━━━━━━━━╇━━━━━━━━━━━━━━━━━━╇━━━━━━━━━━┩\n",
       "│ masking (<span style=\"color: #0087ff; text-decoration-color: #0087ff\">Masking</span>)     │ (<span style=\"color: #00d7ff; text-decoration-color: #00d7ff\">None</span>, <span style=\"color: #00d7ff; text-decoration-color: #00d7ff\">None</span>,     │        <span style=\"color: #00af00; text-decoration-color: #00af00\">0</span> │\n",
       "│                       │ <span style=\"color: #00af00; text-decoration-color: #00af00\">384</span>)             │          │\n",
       "├───────────────────────┼──────────────────┼──────────┤\n",
       "│ lstm (<span style=\"color: #0087ff; text-decoration-color: #0087ff\">LSTM</span>)           │ (<span style=\"color: #00d7ff; text-decoration-color: #00d7ff\">None</span>, <span style=\"color: #00af00; text-decoration-color: #00af00\">128</span>)      │  <span style=\"color: #00af00; text-decoration-color: #00af00\">262,656</span> │\n",
       "├───────────────────────┼──────────────────┼──────────┤\n",
       "│ dense (<span style=\"color: #0087ff; text-decoration-color: #0087ff\">Dense</span>)         │ (<span style=\"color: #00d7ff; text-decoration-color: #00d7ff\">None</span>, <span style=\"color: #00af00; text-decoration-color: #00af00\">64</span>)       │    <span style=\"color: #00af00; text-decoration-color: #00af00\">8,256</span> │\n",
       "├───────────────────────┼──────────────────┼──────────┤\n",
       "│ dense_1 (<span style=\"color: #0087ff; text-decoration-color: #0087ff\">Dense</span>)       │ (<span style=\"color: #00d7ff; text-decoration-color: #00d7ff\">None</span>, <span style=\"color: #00af00; text-decoration-color: #00af00\">20</span>)       │    <span style=\"color: #00af00; text-decoration-color: #00af00\">1,300</span> │\n",
       "└───────────────────────┴──────────────────┴──────────┘\n",
       "</pre>\n"
      ],
      "text/plain": [
       "┏━━━━━━━━━━━━━━━━━━━━━━━┳━━━━━━━━━━━━━━━━━━┳━━━━━━━━━━┓\n",
       "┃\u001b[1m \u001b[0m\u001b[1mLayer (type)         \u001b[0m\u001b[1m \u001b[0m┃\u001b[1m \u001b[0m\u001b[1mOutput Shape    \u001b[0m\u001b[1m \u001b[0m┃\u001b[1m \u001b[0m\u001b[1m Param #\u001b[0m\u001b[1m \u001b[0m┃\n",
       "┡━━━━━━━━━━━━━━━━━━━━━━━╇━━━━━━━━━━━━━━━━━━╇━━━━━━━━━━┩\n",
       "│ masking (\u001b[38;5;33mMasking\u001b[0m)     │ (\u001b[38;5;45mNone\u001b[0m, \u001b[38;5;45mNone\u001b[0m,     │        \u001b[38;5;34m0\u001b[0m │\n",
       "│                       │ \u001b[38;5;34m384\u001b[0m)             │          │\n",
       "├───────────────────────┼──────────────────┼──────────┤\n",
       "│ lstm (\u001b[38;5;33mLSTM\u001b[0m)           │ (\u001b[38;5;45mNone\u001b[0m, \u001b[38;5;34m128\u001b[0m)      │  \u001b[38;5;34m262,656\u001b[0m │\n",
       "├───────────────────────┼──────────────────┼──────────┤\n",
       "│ dense (\u001b[38;5;33mDense\u001b[0m)         │ (\u001b[38;5;45mNone\u001b[0m, \u001b[38;5;34m64\u001b[0m)       │    \u001b[38;5;34m8,256\u001b[0m │\n",
       "├───────────────────────┼──────────────────┼──────────┤\n",
       "│ dense_1 (\u001b[38;5;33mDense\u001b[0m)       │ (\u001b[38;5;45mNone\u001b[0m, \u001b[38;5;34m20\u001b[0m)       │    \u001b[38;5;34m1,300\u001b[0m │\n",
       "└───────────────────────┴──────────────────┴──────────┘\n"
      ]
     },
     "metadata": {},
     "output_type": "display_data"
    },
    {
     "data": {
      "text/html": [
       "<pre style=\"white-space:pre;overflow-x:auto;line-height:normal;font-family:Menlo,'DejaVu Sans Mono',consolas,'Courier New',monospace\"><span style=\"font-weight: bold\"> Total params: </span><span style=\"color: #00af00; text-decoration-color: #00af00\">272,212</span> (1.04 MB)\n",
       "</pre>\n"
      ],
      "text/plain": [
       "\u001b[1m Total params: \u001b[0m\u001b[38;5;34m272,212\u001b[0m (1.04 MB)\n"
      ]
     },
     "metadata": {},
     "output_type": "display_data"
    },
    {
     "data": {
      "text/html": [
       "<pre style=\"white-space:pre;overflow-x:auto;line-height:normal;font-family:Menlo,'DejaVu Sans Mono',consolas,'Courier New',monospace\"><span style=\"font-weight: bold\"> Trainable params: </span><span style=\"color: #00af00; text-decoration-color: #00af00\">272,212</span> (1.04 MB)\n",
       "</pre>\n"
      ],
      "text/plain": [
       "\u001b[1m Trainable params: \u001b[0m\u001b[38;5;34m272,212\u001b[0m (1.04 MB)\n"
      ]
     },
     "metadata": {},
     "output_type": "display_data"
    },
    {
     "data": {
      "text/html": [
       "<pre style=\"white-space:pre;overflow-x:auto;line-height:normal;font-family:Menlo,'DejaVu Sans Mono',consolas,'Courier New',monospace\"><span style=\"font-weight: bold\"> Non-trainable params: </span><span style=\"color: #00af00; text-decoration-color: #00af00\">0</span> (0.00 B)\n",
       "</pre>\n"
      ],
      "text/plain": [
       "\u001b[1m Non-trainable params: \u001b[0m\u001b[38;5;34m0\u001b[0m (0.00 B)\n"
      ]
     },
     "metadata": {},
     "output_type": "display_data"
    },
    {
     "name": "stdout",
     "output_type": "stream",
     "text": [
      "Epoch 1/10\n",
      "\u001b[1m66/66\u001b[0m \u001b[32m━━━━━━━━━━━━━━━━━━━━\u001b[0m\u001b[37m\u001b[0m \u001b[1m24s\u001b[0m 316ms/step - accuracy: 0.0791 - loss: 2.9449 - val_accuracy: 0.2400 - val_loss: 2.1972\n",
      "Epoch 2/10\n",
      "\u001b[1m66/66\u001b[0m \u001b[32m━━━━━━━━━━━━━━━━━━━━\u001b[0m\u001b[37m\u001b[0m \u001b[1m25s\u001b[0m 385ms/step - accuracy: 0.3071 - loss: 1.8920 - val_accuracy: 0.4990 - val_loss: 1.1904\n",
      "Epoch 3/10\n",
      "\u001b[1m66/66\u001b[0m \u001b[32m━━━━━━━━━━━━━━━━━━━━\u001b[0m\u001b[37m\u001b[0m \u001b[1m24s\u001b[0m 369ms/step - accuracy: 0.5661 - loss: 1.0777 - val_accuracy: 0.6438 - val_loss: 0.9003\n",
      "Epoch 4/10\n",
      "\u001b[1m66/66\u001b[0m \u001b[32m━━━━━━━━━━━━━━━━━━━━\u001b[0m\u001b[37m\u001b[0m \u001b[1m26s\u001b[0m 392ms/step - accuracy: 0.6832 - loss: 0.8182 - val_accuracy: 0.7067 - val_loss: 0.7511\n",
      "Epoch 5/10\n",
      "\u001b[1m66/66\u001b[0m \u001b[32m━━━━━━━━━━━━━━━━━━━━\u001b[0m\u001b[37m\u001b[0m \u001b[1m35s\u001b[0m 524ms/step - accuracy: 0.7462 - loss: 0.6549 - val_accuracy: 0.7314 - val_loss: 0.6499\n",
      "Epoch 6/10\n",
      "\u001b[1m66/66\u001b[0m \u001b[32m━━━━━━━━━━━━━━━━━━━━\u001b[0m\u001b[37m\u001b[0m \u001b[1m24s\u001b[0m 363ms/step - accuracy: 0.7399 - loss: 0.6582 - val_accuracy: 0.7657 - val_loss: 0.5636\n",
      "Epoch 7/10\n",
      "\u001b[1m66/66\u001b[0m \u001b[32m━━━━━━━━━━━━━━━━━━━━\u001b[0m\u001b[37m\u001b[0m \u001b[1m29s\u001b[0m 442ms/step - accuracy: 0.7928 - loss: 0.5231 - val_accuracy: 0.7543 - val_loss: 0.6166\n",
      "Epoch 8/10\n",
      "\u001b[1m66/66\u001b[0m \u001b[32m━━━━━━━━━━━━━━━━━━━━\u001b[0m\u001b[37m\u001b[0m \u001b[1m33s\u001b[0m 504ms/step - accuracy: 0.7995 - loss: 0.4747 - val_accuracy: 0.7238 - val_loss: 0.6574\n",
      "Epoch 9/10\n",
      "\u001b[1m66/66\u001b[0m \u001b[32m━━━━━━━━━━━━━━━━━━━━\u001b[0m\u001b[37m\u001b[0m \u001b[1m42s\u001b[0m 524ms/step - accuracy: 0.8137 - loss: 0.4920 - val_accuracy: 0.7790 - val_loss: 0.5262\n",
      "Epoch 10/10\n",
      "\u001b[1m66/66\u001b[0m \u001b[32m━━━━━━━━━━━━━━━━━━━━\u001b[0m\u001b[37m\u001b[0m \u001b[1m34s\u001b[0m 515ms/step - accuracy: 0.8468 - loss: 0.3928 - val_accuracy: 0.7905 - val_loss: 0.5177\n",
      "\u001b[1m17/17\u001b[0m \u001b[32m━━━━━━━━━━━━━━━━━━━━\u001b[0m\u001b[37m\u001b[0m \u001b[1m4s\u001b[0m 252ms/step - accuracy: 0.8041 - loss: 0.5132\n",
      "\n",
      "Test Accuracy: 0.7905\n",
      "\u001b[1m17/17\u001b[0m \u001b[32m━━━━━━━━━━━━━━━━━━━━\u001b[0m\u001b[37m\u001b[0m \u001b[1m5s\u001b[0m 275ms/step\n",
      "\n",
      "Classification Report:\n",
      "              precision    recall  f1-score   support\n",
      "\n",
      "           0       0.95      0.95      0.95        21\n",
      "           1       0.86      0.90      0.88        21\n",
      "           2       0.96      0.88      0.92        26\n",
      "           3       0.82      1.00      0.90        28\n",
      "           4       0.69      0.81      0.75        27\n",
      "           5       0.64      0.58      0.61        24\n",
      "           6       0.94      0.68      0.79        25\n",
      "           7       0.84      0.95      0.89        22\n",
      "           8       0.84      0.78      0.81        27\n",
      "           9       0.86      0.83      0.84        29\n",
      "          10       0.83      0.53      0.65        19\n",
      "          11       0.71      0.83      0.77        24\n",
      "          12       0.80      0.50      0.62        24\n",
      "          13       0.73      0.91      0.81        33\n",
      "          14       0.76      0.90      0.82        31\n",
      "          15       0.86      0.56      0.68        32\n",
      "          16       0.74      0.83      0.78        24\n",
      "          17       0.74      0.65      0.69        26\n",
      "          18       0.74      0.68      0.71        34\n",
      "          19       0.72      1.00      0.84        28\n",
      "\n",
      "    accuracy                           0.79       525\n",
      "   macro avg       0.80      0.79      0.79       525\n",
      "weighted avg       0.80      0.79      0.78       525\n",
      "\n"
     ]
    },
    {
     "data": {
      "image/png": "[encoded data removed]",
      "text/plain": [
       "<Figure size 600x600 with 2 Axes>"
      ]
     },
     "metadata": {},
     "output_type": "display_data"
    },
    {
     "name": "stdout",
     "output_type": "stream",
     "text": [
      "INFO:tensorflow:Assets written to: progress_lstm_model\\assets\n"
     ]
    },
    {
     "name": "stderr",
     "output_type": "stream",
     "text": [
      "INFO:tensorflow:Assets written to: progress_lstm_model\\assets\n"
     ]
    },
    {
     "name": "stdout",
     "output_type": "stream",
     "text": [
      "Saved artifact at 'progress_lstm_model'. The following endpoints are available:\n",
      "\n",
      "* Endpoint 'serve'\n",
      "  args_0 (POSITIONAL_ONLY): TensorSpec(shape=(None, None, 384), dtype=tf.float32, name='keras_tensor')\n",
      "Output Type:\n",
      "  TensorSpec(shape=(None, 20), dtype=tf.float32, name=None)\n",
      "Captures:\n",
      "  1367195244816: TensorSpec(shape=(), dtype=tf.resource, name=None)\n",
      "  1367192813008: TensorSpec(shape=(), dtype=tf.resource, name=None)\n",
      "  1367195245968: TensorSpec(shape=(), dtype=tf.resource, name=None)\n",
      "  1367192812816: TensorSpec(shape=(), dtype=tf.resource, name=None)\n",
      "  1367195246736: TensorSpec(shape=(), dtype=tf.resource, name=None)\n",
      "  1367195247696: TensorSpec(shape=(), dtype=tf.resource, name=None)\n",
      "  1367195247120: TensorSpec(shape=(), dtype=tf.resource, name=None)\n",
      "Model saved to progress_lstm_model\n"
     ]
    }
   ],
   "source": [
    "# Import\n",
    "import pandas as pd\n",
    "import numpy as np\n",
    "from tqdm import tqdm\n",
    "import matplotlib.pyplot as plt\n",
    "\n",
    "from sklearn.model_selection import train_test_split\n",
    "from sklearn.metrics import classification_report, confusion_matrix\n",
    "\n",
    "import tensorflow as tf\n",
    "from tensorflow.keras import layers, models\n",
    "from tensorflow.keras.preprocessing.sequence import pad_sequences\n",
    "\n",
    "# Params\n",
    "INPUT_PATH = \"./progress_added.csv\"\n",
    "NUM_CLASSES = 20   # progress bins: 0 to n-1\n",
    "EMBED_DIM = 384   # MiniLM embedding size\n",
    "\n",
    "# Load data\n",
    "df = pd.read_csv(INPUT_PATH)\n",
    "df = df[df[\"cluster\"] != -1]\n",
    "df = df[df[\"text\"].notnull() & df[\"text\"].str.strip().astype(bool)]\n",
    "print(f\"Loaded {len(df)} rows (without noise)\")\n",
    "\n",
    "# Prepare sequences\n",
    "\n",
    "# convert embedding string to list\n",
    "df[\"embedding\"] = df[\"embedding\"].apply(lambda x: np.array(eval(x), dtype=np.float32))\n",
    "\n",
    "X = []\n",
    "y = []\n",
    "\n",
    "for file_name, group in tqdm(df.groupby(\"file\")):\n",
    "    group = group.sort_values(\"start_sec\")\n",
    "    \n",
    "    sequence = []\n",
    "    for i, row in group.iterrows():\n",
    "        sequence.append(row[\"embedding\"])\n",
    "        X.append(sequence.copy())\n",
    "        y.append(int(row[\"progress_label\"]))\n",
    "\n",
    "print(f\"Prepared {len(X)} sequences\")\n",
    "\n",
    "# Pad sequences\n",
    "X_padded = pad_sequences(X, dtype='float32', padding='post')\n",
    "\n",
    "# Train/test split\n",
    "X_train, X_test, y_train, y_test = train_test_split(\n",
    "    X_padded, y, test_size=0.2, random_state=42\n",
    ")\n",
    "\n",
    "print(f\"Train size: {len(X_train)}, Test size: {len(X_test)}\")\n",
    "\n",
    "# Build LSTM model\n",
    "model = models.Sequential([\n",
    "    layers.Masking(mask_value=0.0, input_shape=(None, EMBED_DIM)),\n",
    "    layers.LSTM(128, return_sequences=False),\n",
    "    layers.Dense(64, activation='relu'),\n",
    "    layers.Dense(NUM_CLASSES, activation='softmax')\n",
    "])\n",
    "\n",
    "model.compile(\n",
    "    optimizer='adam',\n",
    "    loss='sparse_categorical_crossentropy',\n",
    "    metrics=['accuracy']\n",
    ")\n",
    "\n",
    "model.summary()\n",
    "\n",
    "# Train\n",
    "history = model.fit(\n",
    "    X_train, np.array(y_train),\n",
    "    validation_data=(X_test, np.array(y_test)),\n",
    "    epochs=10,\n",
    "    batch_size=32\n",
    ")\n",
    "\n",
    "# Evaluate\n",
    "test_loss, test_acc = model.evaluate(X_test, np.array(y_test))\n",
    "print(f\"\\nTest Accuracy: {test_acc:.4f}\")\n",
    "\n",
    "# Classification report\n",
    "y_pred = model.predict(X_test).argmax(axis=1)\n",
    "\n",
    "print(\"\\nClassification Report:\")\n",
    "print(classification_report(y_test, y_pred))\n",
    "\n",
    "# Confusion matrix\n",
    "cm = confusion_matrix(y_test, y_pred)\n",
    "plt.figure(figsize=(6,6))\n",
    "plt.imshow(cm, cmap='Blues')\n",
    "plt.title(\"Confusion Matrix\")\n",
    "plt.xlabel(\"Predicted\")\n",
    "plt.ylabel(\"True\")\n",
    "plt.colorbar()\n",
    "plt.show()\n",
    "\n",
    "model.export(\"progress_lstm_model\")\n",
    "print(\"Model saved to progress_lstm_model\")"
   ]
  }
 ],
 "metadata": {
  "kernelspec": {
   "display_name": "Python (SpeechEnvDocker)",
   "language": "python",
   "name": "speechenvdocker"
  },
  "language_info": {
   "codemirror_mode": {
    "name": "ipython",
    "version": 3
   },
   "file_extension": ".py",
   "mimetype": "text/x-python",
   "name": "python",
   "nbconvert_exporter": "python",
   "pygments_lexer": "ipython3",
   "version": "3.11.4"
  }
 },
 "nbformat": 4,
 "nbformat_minor": 5
}
