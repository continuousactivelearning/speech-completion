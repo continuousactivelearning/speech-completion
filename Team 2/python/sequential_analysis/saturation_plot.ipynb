import pandas as pd
import matplotlib.pyplot as plt
import spacy
import random
import numpy as np
from scipy.optimize import curve_fit

nlp = spacy.load("en_core_web_sm")
stop_words = nlp.Defaults.stop_words

df = pd.read_csv("transcripts.csv", on_bad_lines="skip")
dataset_size = 2400
stopword_weight = 0.3

# randomly select a few transcripts
random_indices = random.sample(range(dataset_size), 10)
fig, axs = plt.subplots(5, 2, figsize=(14, 20))
axs = axs.flatten()

def gain_model(x, a, b):
    return a * (1 - np.exp(-b * x))

for ax, idx in zip(axs, random_indices):
    text = df.iloc[idx]["transcript"]
    doc = nlp(text)
    words_alpha = [token.text.lower() for token in doc if token.is_alpha]

    unique_words = set()
    stopword_count = 0
    total_counts = []
    gain_list = []

    for i, word in enumerate(words_alpha, 1):
        if word in stop_words:
            stopword_count += 1
        else:
            unique_words.add(word)

        gain = len(unique_words) - stopword_weight * stopword_count
        total_counts.append(i)
        gain_list.append(gain)

    x_data = np.array(total_counts)
    y_data = np.array(gain_list)

    try:
        popt, _ = curve_fit(gain_model, x_data, y_data, p0=[max(y_data), 0.001], maxfev=5000)
        a, b = popt
        y_target = 0.95 * a
        t_saturation = -np.log(1 - y_target / a) / b

        ax.plot(x_data, y_data, label="Actual Gain", color="purple")

        x_fit = np.linspace(1, x_data[-1], 200)
        y_fit = gain_model(x_fit, *popt)
        ax.plot(x_fit, y_fit, label="Fitted Curve", linestyle="--", color="blue")

        ax.axvline(t_saturation, color="red", linestyle=":", label=f"Saturation ≈ {int(t_saturation)} words")
        ax.axhline(y_target, color="green", linestyle="--")

        ax.set_title(f"Transcript #{idx}", fontsize=10)
        ax.grid(True)
        ax.autoscale()

        textstr = (
            f"Total Words: {len(words_alpha)}\n"
            f"Unique Words: {len(unique_words)}\n"
            f"Stopwords: {stopword_count}\n"
            f"Saturation@{int(t_saturation)}"
        )
        ax.text(0.05, 0.95, textstr, transform=ax.transAxes, fontsize=8,
                verticalalignment="top", bbox=dict(boxstyle="round", facecolor="wheat", alpha=0.5))
        ax.legend(fontsize=8)

    except Exception as e:
        ax.plot(x_data, y_data, label="Gain", color="purple")
        ax.set_title(f"Transcript #{idx}\nCurve fit failed", fontsize=10)
        ax.grid(True)

fig.text(0.5, 0.04, "Total Words Processed", ha="center", fontsize=12)
fig.text(0.04, 0.5, "Gain Score", va="center", rotation="vertical", fontsize=12)
plt.tight_layout(rect=[0.05, 0.05, 1, 0.95])
plt.show()
