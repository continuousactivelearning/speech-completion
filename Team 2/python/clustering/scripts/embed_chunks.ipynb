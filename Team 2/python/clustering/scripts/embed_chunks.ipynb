{
 "cells": [
  {
   "cell_type": "code",
   "execution_count": null,
   "id": "70859458-c779-414a-8553-3e27080f6634",
   "metadata": {},
   "outputs": [],
   "source": [
    "import pandas as pd\n",
    "import os\n",
    "import json\n",
    "from sentence_transformers import SentenceTransformer\n",
    "\n",
    "csv_path = \"\"\n",
    "output_path = \"\"\n",
    "os.makedirs(os.path.dirname(output_path), exist_ok=True)\n",
    "\n",
    "df = pd.read_csv(csv_path)\n",
    "print(f\"Loaded {len(df)} chunks from CSV\")\n",
    "\n",
    "model = SentenceTransformer(\"all-MiniLM-L6-v2\")\n",
    "\n",
    "texts = df[\"text\"].tolist()\n",
    "embeddings = model.encode(texts, show_progress_bar=True)\n",
    "\n",
    "embedded_data = []\n",
    "for i, (idx, row) in enumerate(df.iterrows()):\n",
    "    embedded_data.append({\n",
    "        \"file\": row[\"file\"],\n",
    "        \"course\": row[\"course\"],\n",
    "        \"source\": row[\"source\"],\n",
    "        \"start\": row[\"start\"],\n",
    "        \"end\": row[\"end\"],\n",
    "        \"text\": row[\"text\"],\n",
    "        \"embedding\": embeddings[i]\n",
    "    })\n",
    "\n",
    "with open(output_path, \"w\", encoding=\"utf-8\") as f:\n",
    "    json.dump(embedded_data, f, indent=2)\n",
    "\n",
    "print(f\"Saved {len(embedded_data)} embeddings to {output_path}\")\n"
   ]
  }
 ],
 "metadata": {
  "kernelspec": {
   "display_name": "Python (myenv)",
   "language": "python",
   "name": "myenv"
  },
  "language_info": {
   "codemirror_mode": {
    "name": "ipython",
    "version": 3
   },
   "file_extension": ".py",
   "mimetype": "text/x-python",
   "name": "python",
   "nbconvert_exporter": "python",
   "pygments_lexer": "ipython3",
   "version": "3.11.4"
  }
 },
 "nbformat": 4,
 "nbformat_minor": 5
}
