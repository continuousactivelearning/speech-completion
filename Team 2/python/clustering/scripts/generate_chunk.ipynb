{
 "cells": [
  {
   "cell_type": "code",
   "execution_count": null,
   "id": "6a0b3737-f488-45a1-bb53-7fe4be0a04a0",
   "metadata": {},
   "outputs": [],
   "source": [
    "import pandas as pd\n",
    "import os\n",
    "import math\n",
    "import json\n",
    "\n",
    "INPUT_CSV = \"\"\n",
    "OUTPUT_DIR = \"\"\n",
    "CHUNK_SIZE = 40\n",
    "\n",
    "os.makedirs(OUTPUT_DIR, exist_ok=True)\n",
    "\n",
    "df = pd.read_csv(INPUT_CSV)\n",
    "print(f\"Loaded {len(df)} rows from {INPUT_CSV}\")\n",
    "\n",
    "grouped = df.groupby(\"file\")\n",
    "\n",
    "for filename, group in grouped:\n",
    "    chunk_data = []\n",
    "    chunk_id = 0\n",
    "\n",
    "    for _, row in group.iterrows():\n",
    "        words = row[\"text\"].split()\n",
    "        total_chunks = math.ceil(len(words) / CHUNK_SIZE)\n",
    "\n",
    "        for i in range(total_chunks):\n",
    "            chunk_text = \" \".join(words[i * CHUNK_SIZE : (i + 1) * CHUNK_SIZE])\n",
    "            position = (\n",
    "                round(chunk_id / (total_chunks - 1), 4) if total_chunks > 1 else 0.0\n",
    "            )\n",
    "\n",
    "            chunk_data.append(\n",
    "                {\n",
    "                    \"file\": row[\"file\"],\n",
    "                    \"course\": row[\"course\"],\n",
    "                    \"source\": row[\"source\"],\n",
    "                    \"start\": row[\"start\"],\n",
    "                    \"end\": row[\"end\"],\n",
    "                    \"chunk_id\": chunk_id,\n",
    "                    \"text\": chunk_text,\n",
    "                    \"position\": position,\n",
    "                }\n",
    "            )\n",
    "            chunk_id += 1\n",
    "\n",
    "    out_path = os.path.join(OUTPUT_DIR, filename.replace(\".json\", \"_chunks.json\"))\n",
    "    with open(out_path, \"w\", encoding=\"utf-8\") as f:\n",
    "        json.dump(chunk_data, f, indent=2)\n",
    "\n",
    "    print(f\"Saved {len(chunk_data)} chunks to {out_path}\")"
   ]
  }
 ],
 "metadata": {
  "kernelspec": {
   "display_name": "Python (myenv)",
   "language": "python",
   "name": "myenv"
  },
  "language_info": {
   "codemirror_mode": {
    "name": "ipython",
    "version": 3
   },
   "file_extension": ".py",
   "mimetype": "text/x-python",
   "name": "python",
   "nbconvert_exporter": "python",
   "pygments_lexer": "ipython3",
   "version": "3.11.4"
  }
 },
 "nbformat": 4,
 "nbformat_minor": 5
}
