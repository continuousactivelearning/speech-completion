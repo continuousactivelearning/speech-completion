{
 "cells": [
  {
   "cell_type": "code",
   "execution_count": 6,
   "id": "86f9b844",
   "metadata": {
    "vscode": {
     "languageId": "plaintext"
    }
   },
   "outputs": [
    {
     "name": "stdout",
     "output_type": "stream",
     "text": [
      "Requirement already satisfied: ollama in c:\\users\\victus\\biswashreya\\speech-completition-prediction\\.venv\\lib\\site-packages (0.5.1)\n",
      "Requirement already satisfied: httpx>=0.27 in c:\\users\\victus\\biswashreya\\speech-completition-prediction\\.venv\\lib\\site-packages (from ollama) (0.28.1)\n",
      "Requirement already satisfied: pydantic>=2.9 in c:\\users\\victus\\biswashreya\\speech-completition-prediction\\.venv\\lib\\site-packages (from ollama) (2.11.7)\n",
      "Requirement already satisfied: anyio in c:\\users\\victus\\biswashreya\\speech-completition-prediction\\.venv\\lib\\site-packages (from httpx>=0.27->ollama) (4.9.0)\n",
      "Requirement already satisfied: certifi in c:\\users\\victus\\biswashreya\\speech-completition-prediction\\.venv\\lib\\site-packages (from httpx>=0.27->ollama) (2025.6.15)\n",
      "Requirement already satisfied: httpcore==1.* in c:\\users\\victus\\biswashreya\\speech-completition-prediction\\.venv\\lib\\site-packages (from httpx>=0.27->ollama) (1.0.9)\n",
      "Requirement already satisfied: idna in c:\\users\\victus\\biswashreya\\speech-completition-prediction\\.venv\\lib\\site-packages (from httpx>=0.27->ollama) (3.10)\n",
      "Requirement already satisfied: h11>=0.16 in c:\\users\\victus\\biswashreya\\speech-completition-prediction\\.venv\\lib\\site-packages (from httpcore==1.*->httpx>=0.27->ollama) (0.16.0)\n",
      "Requirement already satisfied: annotated-types>=0.6.0 in c:\\users\\victus\\biswashreya\\speech-completition-prediction\\.venv\\lib\\site-packages (from pydantic>=2.9->ollama) (0.7.0)\n",
      "Requirement already satisfied: pydantic-core==2.33.2 in c:\\users\\victus\\biswashreya\\speech-completition-prediction\\.venv\\lib\\site-packages (from pydantic>=2.9->ollama) (2.33.2)\n",
      "Requirement already satisfied: typing-extensions>=4.12.2 in c:\\users\\victus\\biswashreya\\speech-completition-prediction\\.venv\\lib\\site-packages (from pydantic>=2.9->ollama) (4.14.0)\n",
      "Requirement already satisfied: typing-inspection>=0.4.0 in c:\\users\\victus\\biswashreya\\speech-completition-prediction\\.venv\\lib\\site-packages (from pydantic>=2.9->ollama) (0.4.1)\n",
      "Requirement already satisfied: sniffio>=1.1 in c:\\users\\victus\\biswashreya\\speech-completition-prediction\\.venv\\lib\\site-packages (from anyio->httpx>=0.27->ollama) (1.3.1)\n"
     ]
    },
    {
     "name": "stderr",
     "output_type": "stream",
     "text": [
      "\n",
      "[notice] A new release of pip is available: 23.1.2 -> 25.1.1\n",
      "[notice] To update, run: python.exe -m pip install --upgrade pip\n"
     ]
    },
    {
     "name": "stdout",
     "output_type": "stream",
     "text": [
      "Requirement already satisfied: tqdm in c:\\users\\victus\\biswashreya\\speech-completition-prediction\\.venv\\lib\\site-packages (4.67.1)\n",
      "Requirement already satisfied: ipywidgets in c:\\users\\victus\\biswashreya\\speech-completition-prediction\\.venv\\lib\\site-packages (8.1.7)\n",
      "Requirement already satisfied: colorama in c:\\users\\victus\\biswashreya\\speech-completition-prediction\\.venv\\lib\\site-packages (from tqdm) (0.4.6)\n",
      "Requirement already satisfied: comm>=0.1.3 in c:\\users\\victus\\biswashreya\\speech-completition-prediction\\.venv\\lib\\site-packages (from ipywidgets) (0.2.2)\n",
      "Requirement already satisfied: ipython>=6.1.0 in c:\\users\\victus\\biswashreya\\speech-completition-prediction\\.venv\\lib\\site-packages (from ipywidgets) (9.3.0)\n",
      "Requirement already satisfied: traitlets>=4.3.1 in c:\\users\\victus\\biswashreya\\speech-completition-prediction\\.venv\\lib\\site-packages (from ipywidgets) (5.14.3)\n",
      "Requirement already satisfied: widgetsnbextension~=4.0.14 in c:\\users\\victus\\biswashreya\\speech-completition-prediction\\.venv\\lib\\site-packages (from ipywidgets) (4.0.14)\n",
      "Requirement already satisfied: jupyterlab_widgets~=3.0.15 in c:\\users\\victus\\biswashreya\\speech-completition-prediction\\.venv\\lib\\site-packages (from ipywidgets) (3.0.15)\n",
      "Requirement already satisfied: decorator in c:\\users\\victus\\biswashreya\\speech-completition-prediction\\.venv\\lib\\site-packages (from ipython>=6.1.0->ipywidgets) (5.2.1)\n",
      "Requirement already satisfied: ipython-pygments-lexers in c:\\users\\victus\\biswashreya\\speech-completition-prediction\\.venv\\lib\\site-packages (from ipython>=6.1.0->ipywidgets) (1.1.1)\n",
      "Requirement already satisfied: jedi>=0.16 in c:\\users\\victus\\biswashreya\\speech-completition-prediction\\.venv\\lib\\site-packages (from ipython>=6.1.0->ipywidgets) (0.19.2)\n",
      "Requirement already satisfied: matplotlib-inline in c:\\users\\victus\\biswashreya\\speech-completition-prediction\\.venv\\lib\\site-packages (from ipython>=6.1.0->ipywidgets) (0.1.7)\n",
      "Requirement already satisfied: prompt_toolkit<3.1.0,>=3.0.41 in c:\\users\\victus\\biswashreya\\speech-completition-prediction\\.venv\\lib\\site-packages (from ipython>=6.1.0->ipywidgets) (3.0.51)\n",
      "Requirement already satisfied: pygments>=2.4.0 in c:\\users\\victus\\biswashreya\\speech-completition-prediction\\.venv\\lib\\site-packages (from ipython>=6.1.0->ipywidgets) (2.19.1)\n",
      "Requirement already satisfied: stack_data in c:\\users\\victus\\biswashreya\\speech-completition-prediction\\.venv\\lib\\site-packages (from ipython>=6.1.0->ipywidgets) (0.6.3)\n",
      "Requirement already satisfied: typing_extensions>=4.6 in c:\\users\\victus\\biswashreya\\speech-completition-prediction\\.venv\\lib\\site-packages (from ipython>=6.1.0->ipywidgets) (4.14.0)\n",
      "Requirement already satisfied: parso<0.9.0,>=0.8.4 in c:\\users\\victus\\biswashreya\\speech-completition-prediction\\.venv\\lib\\site-packages (from jedi>=0.16->ipython>=6.1.0->ipywidgets) (0.8.4)\n",
      "Requirement already satisfied: wcwidth in c:\\users\\victus\\biswashreya\\speech-completition-prediction\\.venv\\lib\\site-packages (from prompt_toolkit<3.1.0,>=3.0.41->ipython>=6.1.0->ipywidgets) (0.2.13)\n",
      "Requirement already satisfied: executing>=1.2.0 in c:\\users\\victus\\biswashreya\\speech-completition-prediction\\.venv\\lib\\site-packages (from stack_data->ipython>=6.1.0->ipywidgets) (2.2.0)\n",
      "Requirement already satisfied: asttokens>=2.1.0 in c:\\users\\victus\\biswashreya\\speech-completition-prediction\\.venv\\lib\\site-packages (from stack_data->ipython>=6.1.0->ipywidgets) (3.0.0)\n",
      "Requirement already satisfied: pure-eval in c:\\users\\victus\\biswashreya\\speech-completition-prediction\\.venv\\lib\\site-packages (from stack_data->ipython>=6.1.0->ipywidgets) (0.2.3)\n"
     ]
    },
    {
     "name": "stderr",
     "output_type": "stream",
     "text": [
      "\n",
      "[notice] A new release of pip is available: 23.1.2 -> 25.1.1\n",
      "[notice] To update, run: python.exe -m pip install --upgrade pip\n"
     ]
    }
   ],
   "source": [
    "!pip install ollama\n",
    "!pip install tqdm ipywidgets "
   ]
  },
  {
   "cell_type": "code",
   "execution_count": 9,
   "id": "24d726cf",
   "metadata": {
    "vscode": {
     "languageId": "plaintext"
    }
   },
   "outputs": [
    {
     "name": "stdout",
     "output_type": "stream",
     "text": [
      "Loading data from: ../topic_identification/BERTopic_clustered_topics.csv\n",
      "Loaded 181 topics.\n",
      "\n",
      "Starting title generation with Ollama model: qwen2.5:3b\n"
     ]
    },
    {
     "name": "stderr",
     "output_type": "stream",
     "text": [
      "Generating Titles: 100%|██████████████████████████████████████████████████████████████████████████████████████████████████████| 181/181 [23:57<00:00,  7.94s/it]"
     ]
    },
    {
     "name": "stdout",
     "output_type": "stream",
     "text": [
      "\n",
      "Saving titles to titles_qwen(BERTopic).json\n",
      "\n",
      "✅ Process completed! Titles saved to titles_qwen(BERTopic).json\n"
     ]
    },
    {
     "name": "stderr",
     "output_type": "stream",
     "text": [
      "\n"
     ]
    }
   ],
   "source": [
    "import pandas as pd\n",
    "import json\n",
    "from tqdm import tqdm\n",
    "import ollama\n",
    "\n",
    "\n",
    "CSV_PATH = \"../topic_identification/BERTopic_clustered_topics.csv\"\n",
    "OUTPUT_JSON = \"titles_qwen(BERTopic).json\"\n",
    "OLLAMA_MODEL_NAME = \"qwen2.5:3b\"\n",
    "MAX_INPUT_TOKENS = 5000\n",
    "MAX_OUTPUT_TOKENS = 256\n",
    "\n",
    "print(f\"Loading data from: {CSV_PATH}\")\n",
    "df = pd.read_csv(CSV_PATH)\n",
    "\n",
    "# Check columns exist\n",
    "expected_cols = {'topic_num', 'top_words', 'representative_docs'}\n",
    "if not expected_cols.issubset(df.columns):\n",
    "    raise ValueError(f\"CSV is missing required columns. Expected at least: {expected_cols}\")\n",
    "\n",
    "print(f\"Loaded {len(df)} topics.\")\n",
    "\n",
    "output = {}\n",
    "\n",
    "print(f\"\\nStarting title generation with Ollama model: {OLLAMA_MODEL_NAME}\")\n",
    "for i, row in tqdm(df.iterrows(), total=len(df), desc=\"Generating Titles\"):\n",
    "    topic_id = str(row[\"topic_num\"])\n",
    "    top_words = row[\"top_words\"]\n",
    "    representative_text = row[\"representative_docs\"]\n",
    "    \n",
    "    if not isinstance(representative_text, str) or representative_text.strip() == \"\":\n",
    "        continue\n",
    "\n",
    "    # Truncate to avoid overloading input\n",
    "    representative_text = representative_text[:MAX_INPUT_TOKENS]\n",
    "\n",
    "    # Prompt\n",
    "    messages = [\n",
    "        {\"role\": \"system\", \"content\": \"You are an AI assistant. Generate a short, clear, and human-friendly title for a lecture topic based on representative text and topic keywords.\"},\n",
    "        {\"role\": \"user\", \"content\": f\"Topic keywords: {top_words}\\n\\nTranscript:\\n\\\"\\\"\\\"{representative_text}\\\"\\\"\\\"\\n\\nTitle:\"}\n",
    "    ]\n",
    "\n",
    "    title = \"\"\n",
    "\n",
    "    try:\n",
    "        response = ollama.chat(\n",
    "            model=OLLAMA_MODEL_NAME,\n",
    "            messages=messages,\n",
    "            options={\n",
    "                \"temperature\": 0.7,\n",
    "                \"top_p\": 0.9,\n",
    "                \"num_predict\": MAX_OUTPUT_TOKENS\n",
    "            }\n",
    "        )\n",
    "\n",
    "        if response and 'message' in response and 'content' in response['message']:\n",
    "            generated = response['message']['content']\n",
    "            title = generated.split(\"Title:\")[-1].strip().strip('\"').strip(\"'\")\n",
    "        else:\n",
    "            title = \"Error: Unexpected Ollama response\"\n",
    "            print(f\"\\nWarning: No valid title generated for topic {topic_id}. Response: {response}\")\n",
    "\n",
    "    except Exception as e:\n",
    "        title = f\"Error: {type(e).__name__} - {e}\"\n",
    "        print(f\"\\nError generating title for topic {topic_id}: {e}\")\n",
    "\n",
    "    output[f\"topic_{topic_id}\"] = {\n",
    "        \"title\": title,\n",
    "        \"top_words\": top_words\n",
    "    }\n",
    "\n",
    "# Save to JSON\n",
    "print(f\"\\nSaving titles to {OUTPUT_JSON}\")\n",
    "with open(OUTPUT_JSON, \"w\", encoding=\"utf-8\") as f:\n",
    "    json.dump(output, f, indent=2, ensure_ascii=False)\n",
    "\n",
    "print(f\"\\n✅ Process completed! Titles saved to {OUTPUT_JSON}\")\n"
   ]
  },
  {
   "cell_type": "code",
   "execution_count": null,
   "id": "9c55af9d-34a3-47fb-86bd-3216a404ed3a",
   "metadata": {},
   "outputs": [],
   "source": []
  }
 ],
 "metadata": {
  "kernelspec": {
   "display_name": "Python(speechenv)",
   "language": "python",
   "name": "speechenv"
  },
  "language_info": {
   "codemirror_mode": {
    "name": "ipython",
    "version": 3
   },
   "file_extension": ".py",
   "mimetype": "text/x-python",
   "name": "python",
   "nbconvert_exporter": "python",
   "pygments_lexer": "ipython3",
   "version": "3.11.4"
  }
 },
 "nbformat": 4,
 "nbformat_minor": 5
}
