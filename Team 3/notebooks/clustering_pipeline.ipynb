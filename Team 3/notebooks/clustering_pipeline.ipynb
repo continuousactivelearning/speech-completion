{
 "cells": [
  {
   "cell_type": "code",
   "execution_count": 1,
   "id": "216066ee-f980-4cb2-bf3f-a2b8d8704f9c",
   "metadata": {},
   "outputs": [
    {
     "name": "stderr",
     "output_type": "stream",
     "text": [
      "/Library/Frameworks/Python.framework/Versions/3.13/lib/python3.13/site-packages/tqdm/auto.py:21: TqdmWarning: IProgress not found. Please update jupyter and ipywidgets. See https://ipywidgets.readthedocs.io/en/stable/user_install.html\n",
      "  from .autonotebook import tqdm as notebook_tqdm\n"
     ]
    },
    {
     "name": "stdout",
     "output_type": "stream",
     "text": [
      "Setup complete. Directories created.\n"
     ]
    }
   ],
   "source": [
    "import pandas as pd\n",
    "import numpy as np\n",
    "import os\n",
    "from sklearn.decomposition import PCA\n",
    "from sklearn.metrics import mean_absolute_error, r2_score\n",
    "from sklearn.model_selection import train_test_split\n",
    "import matplotlib.pyplot as plt\n",
    "import seaborn as sns\n",
    "from sentence_transformers import SentenceTransformer\n",
    "import umap\n",
    "import hdbscan\n",
    "import lightgbm as lgb\n",
    "from lightgbm import early_stopping, log_evaluation\n",
    "import joblib\n",
    "from sklearn.pipeline import Pipeline\n",
    "from sklearn.base import BaseEstimator, TransformerMixin\n",
    "import warnings\n",
    "warnings.filterwarnings('ignore')\n",
    "\n",
    "# Setup paths\n",
    "base_path = \"../\"\n",
    "data_path = os.path.join(base_path, \"data\")\n",
    "model_path = os.path.join(base_path, \"model\")\n",
    "scripts_path = os.path.join(base_path, \"scripts\")\n",
    "results_path = os.path.join(base_path, \"results\")\n",
    "\n",
    "print(\"Setup complete. Directories created.\")"
   ]
  },
  {
   "cell_type": "code",
   "execution_count": 2,
   "id": "cba7753c-6789-4605-8c20-b450e29ad9c9",
   "metadata": {},
   "outputs": [
    {
     "name": "stdout",
     "output_type": "stream",
     "text": [
      "Loaded 2439 samples\n",
      "Columns: ['Speech_ID', 'VideoTitle', 'Chunk_ID', 'Chunk', 'completed_percentage', 'completion_range_percentage']\n",
      "Sample data:\n",
      "   Speech_ID     VideoTitle Chunk_ID  \\\n",
      "0          1  Muniba_Mazari      1_0   \n",
      "1          1  Muniba_Mazari      1_1   \n",
      "2          1  Muniba_Mazari     1_10   \n",
      "3          1  Muniba_Mazari     1_11   \n",
      "4          1  Muniba_Mazari     1_12   \n",
      "\n",
      "                                               Chunk  completed_percentage  \\\n",
      "0  Whoa. I'm running short of words right now, bu...                  0.00   \n",
      "1  Well, I always start my talk with a disclaimer...                  1.89   \n",
      "2  But that injury that changed me and my life co...                 18.87   \n",
      "3  Many people came to rescue. They gave me CPR. ...                 20.75   \n",
      "4  She's going to die. Where should we go? There ...                 22.64   \n",
      "\n",
      "  completion_range_percentage  \n",
      "0                         0-5  \n",
      "1                         0-5  \n",
      "2                       15-20  \n",
      "3                       20-25  \n",
      "4                       20-25  \n"
     ]
    }
   ],
   "source": [
    "csv_path = os.path.join(data_path, \"processed\", \"labeled_transcripts.csv\")  # Updated path\n",
    "df = pd.read_csv(csv_path)\n",
    "df = df.sort_values(by=[\"Speech_ID\", \"Chunk_ID\"]).reset_index(drop=True)\n",
    "\n",
    "print(f\"Loaded {len(df)} samples\")\n",
    "print(f\"Columns: {df.columns.tolist()}\")\n",
    "print(f\"Sample data:\\n{df.head()}\")"
   ]
  },
  {
   "cell_type": "code",
   "execution_count": 3,
   "id": "edca2fcd-bffa-466b-843d-019ca901c17a",
   "metadata": {},
   "outputs": [
    {
     "name": "stdout",
     "output_type": "stream",
     "text": [
      "Custom transformers created successfully.\n"
     ]
    }
   ],
   "source": [
    "from hdbscan import approximate_predict \n",
    "\n",
    "class TextFeatureExtractor(BaseEstimator, TransformerMixin):\n",
    "    \"\"\"Extract structural features from text\"\"\"\n",
    "    \n",
    "    def __init__(self):\n",
    "        pass\n",
    "    \n",
    "    def fit(self, X, y=None):\n",
    "        return self\n",
    "    \n",
    "    def transform(self, X):\n",
    "        features = []\n",
    "        for text in X:\n",
    "            words = text.split()\n",
    "            num_words = len(words)\n",
    "            num_chars = len(text)\n",
    "            num_commas = text.count(',')\n",
    "            num_periods = text.count('.')\n",
    "            num_exclaims = text.count('!')\n",
    "            num_questions = text.count('?')\n",
    "            unique_words = len(set(words))\n",
    "            fraction_unique_words = unique_words / (num_words + 1e-5)\n",
    "            \n",
    "            features.append([\n",
    "                num_words, num_chars, num_commas, num_periods, \n",
    "                num_exclaims, num_questions, unique_words, fraction_unique_words\n",
    "            ])\n",
    "        \n",
    "        return np.array(features)\n",
    "    \n",
    "    def get_feature_names_out(self, input_features=None):\n",
    "        return ['num_words', 'num_chars', 'num_commas', 'num_periods', \n",
    "                'num_exclaims', 'num_questions', 'unique_words', 'fraction_unique_words']\n",
    "\n",
    "\n",
    "class EmbeddingTransformer(BaseEstimator, TransformerMixin):\n",
    "    \"\"\"Generate sentence embeddings\"\"\"\n",
    "    \n",
    "    def __init__(self, model_name=\"all-mpnet-base-v2\"):\n",
    "        self.model_name = model_name\n",
    "        self.model = None\n",
    "    \n",
    "    def fit(self, X, y=None):\n",
    "        self.model = SentenceTransformer(self.model_name)\n",
    "        return self\n",
    "    \n",
    "    def transform(self, X):\n",
    "        if self.model is None:\n",
    "            self.model = SentenceTransformer(self.model_name)\n",
    "        return self.model.encode(X.tolist(), show_progress_bar=True)\n",
    "\n",
    "\n",
    "class ClusteringTransformer(BaseEstimator, TransformerMixin):\n",
    "    \"\"\"Apply PCA, UMAP, and clustering to embeddings\"\"\"\n",
    "    \n",
    "    def __init__(self, n_pca_components=5, n_umap_components=2):\n",
    "        self.n_pca_components = n_pca_components\n",
    "        self.n_umap_components = n_umap_components\n",
    "        self.pca = PCA(n_components=n_pca_components, random_state=42)\n",
    "        self.umap_model = umap.UMAP(n_neighbors=15, min_dist=0.0, \n",
    "                                    n_components=n_umap_components, random_state=42)\n",
    "        self.clusterer = hdbscan.HDBSCAN(min_cluster_size=5, prediction_data=True)\n",
    "        \n",
    "    def fit(self, X, y=None):\n",
    "        pca_features = self.pca.fit_transform(X)\n",
    "        umap_features = self.umap_model.fit_transform(X)\n",
    "        self.clusterer.fit(umap_features)\n",
    "        return self\n",
    "    \n",
    "    def transform(self, X):\n",
    "        pca_features = self.pca.transform(X)\n",
    "        umap_features = self.umap_model.transform(X)\n",
    "\n",
    "        cluster_labels, _ = approximate_predict(self.clusterer, umap_features)\n",
    "        is_noise = (cluster_labels == -1).astype(int)\n",
    "\n",
    "        features = np.column_stack([pca_features, cluster_labels, is_noise])\n",
    "        return features, cluster_labels\n",
    "\n",
    "    def get_feature_names_out(self, input_features=None):\n",
    "        pca_names = [f'pca_{i+1}' for i in range(self.n_pca_components)]\n",
    "        return pca_names + ['cluster', 'is_noise']\n",
    "\n",
    "print(\"Custom transformers created successfully.\")\n"
   ]
  },
  {
   "cell_type": "code",
   "execution_count": 4,
   "id": "8b3e794a-3a30-4137-afda-5be0761498ed",
   "metadata": {},
   "outputs": [
    {
     "name": "stdout",
     "output_type": "stream",
     "text": [
      "Text features shape: (2439, 8)\n",
      "Generating embeddings...\n"
     ]
    },
    {
     "name": "stderr",
     "output_type": "stream",
     "text": [
      "Batches: 100%|██████████████████████████████████| 77/77 [00:57<00:00,  1.34it/s]\n"
     ]
    },
    {
     "name": "stdout",
     "output_type": "stream",
     "text": [
      "Embeddings shape: (2439, 768)\n",
      "Applying clustering transformations...\n",
      "Clustering features shape: (2439, 7)\n"
     ]
    }
   ],
   "source": [
    "text_extractor = TextFeatureExtractor()\n",
    "text_features = text_extractor.fit_transform(df['Chunk'])\n",
    "text_feature_names = text_extractor.get_feature_names_out()\n",
    "print(f\"Text features shape: {text_features.shape}\")\n",
    "\n",
    "# Generate sentence embeddings\n",
    "print(\"Generating embeddings...\")\n",
    "embedding_transformer = EmbeddingTransformer()\n",
    "embeddings = embedding_transformer.fit_transform(df['Chunk'])\n",
    "print(f\"Embeddings shape: {embeddings.shape}\")\n",
    "\n",
    "# Apply clustering transformations (fixed: separate fit and transform)\n",
    "print(\"Applying clustering transformations...\")\n",
    "clustering_transformer = ClusteringTransformer()\n",
    "clustering_transformer.fit(embeddings) \n",
    "clustering_features, cluster_labels = clustering_transformer.transform(embeddings) \n",
    "clustering_feature_names = clustering_transformer.get_feature_names_out()\n",
    "print(f\"Clustering features shape: {clustering_features.shape}\")"
   ]
  },
  {
   "cell_type": "code",
   "execution_count": 5,
   "id": "a280cbdb-184c-45ab-b0ee-7f307584ed9f",
   "metadata": {},
   "outputs": [
    {
     "name": "stdout",
     "output_type": "stream",
     "text": [
      "Temporal features computed successfully.\n"
     ]
    }
   ],
   "source": [
    "def compute_temporal_features(df, cluster_labels):\n",
    "    \"\"\"Compute temporal cluster features\"\"\"\n",
    "    df_temp = df.copy()\n",
    "    df_temp['cluster'] = cluster_labels\n",
    "    \n",
    "    cluster_progress = []\n",
    "    fraction_unique_clusters = []\n",
    "    \n",
    "    for _, group in df_temp.groupby(\"Speech_ID\"):\n",
    "        seen = set()\n",
    "        total_clusters = set(group['cluster'].unique())\n",
    "        cluster_seen = []\n",
    "        frac_unique = []\n",
    "        \n",
    "        for c in group['cluster']:\n",
    "            cluster_seen.append(int(c in seen))\n",
    "            seen.add(c)\n",
    "            frac_unique.append(len(seen) / len(total_clusters))\n",
    "        \n",
    "        cluster_progress.extend(cluster_seen)\n",
    "        fraction_unique_clusters.extend(frac_unique)\n",
    "    \n",
    "    return np.array(cluster_progress), np.array(fraction_unique_clusters)\n",
    "\n",
    "# Compute temporal features\n",
    "cluster_seen_before, fraction_unique_clusters = compute_temporal_features(df, cluster_labels)\n",
    "\n",
    "print(\"Temporal features computed successfully.\")"
   ]
  },
  {
   "cell_type": "code",
   "execution_count": 6,
   "id": "832bdff4-9c41-4817-a00c-affa4a025a56",
   "metadata": {},
   "outputs": [
    {
     "name": "stdout",
     "output_type": "stream",
     "text": [
      "Single unified model class created successfully.\n"
     ]
    }
   ],
   "source": [
    "class SpeechCompletionPredictor(BaseEstimator):\n",
    "    \"\"\"Single unified model for speech completion prediction\"\"\"\n",
    "\n",
    "    def __init__(self):\n",
    "        self.text_extractor = TextFeatureExtractor()\n",
    "        self.embedding_transformer = EmbeddingTransformer()\n",
    "        self.clustering_transformer = ClusteringTransformer()\n",
    "        self.lgb_model = lgb.LGBMRegressor(n_estimators=1000, learning_rate=0.01, random_state=42)\n",
    "        self.feature_names = None\n",
    "        self.is_fitted = False\n",
    "\n",
    "    def _compute_temporal_features(self, df_temp, cluster_labels):\n",
    "        \"\"\"Compute temporal cluster features\"\"\"\n",
    "        cluster_progress = []\n",
    "        fraction_unique_clusters = []\n",
    "\n",
    "        for _, group in df_temp.groupby(\"Speech_ID\"):\n",
    "            seen = set()\n",
    "            total_clusters = set(group['cluster'].unique())\n",
    "            cluster_seen = []\n",
    "            frac_unique = []\n",
    "\n",
    "            for c in group['cluster']:\n",
    "                cluster_seen.append(int(c in seen))\n",
    "                seen.add(c)\n",
    "                frac_unique.append(len(seen) / len(total_clusters))\n",
    "\n",
    "            cluster_progress.extend(cluster_seen)\n",
    "            fraction_unique_clusters.extend(frac_unique)\n",
    "\n",
    "        return np.array(cluster_progress), np.array(fraction_unique_clusters)\n",
    "\n",
    "    def _prepare_features(self, X_df):\n",
    "        \"\"\"Prepare all features for training/prediction\"\"\"\n",
    "        text_features = self.text_extractor.transform(X_df['Chunk'])\n",
    "        embeddings = self.embedding_transformer.transform(X_df['Chunk'])\n",
    "        clustering_features, cluster_labels = self.clustering_transformer.transform(embeddings)\n",
    "\n",
    "        df_temp = X_df.copy()\n",
    "        df_temp['cluster'] = cluster_labels\n",
    "        cluster_seen, frac_unique = self._compute_temporal_features(df_temp, cluster_labels)\n",
    "\n",
    "        all_features = np.column_stack([\n",
    "            text_features,\n",
    "            clustering_features,\n",
    "            cluster_seen.reshape(-1, 1),\n",
    "            frac_unique.reshape(-1, 1)\n",
    "        ])\n",
    "\n",
    "        return all_features\n",
    "\n",
    "    def fit(self, X_df, y, eval_set=None):\n",
    "        \"\"\"Fit the complete model\"\"\"\n",
    "        text_features = self.text_extractor.fit_transform(X_df['Chunk'])\n",
    "        embeddings = self.embedding_transformer.fit_transform(X_df['Chunk'])\n",
    "        clustering_features, cluster_labels = self.clustering_transformer.fit_transform(embeddings)\n",
    "\n",
    "        df_temp = X_df.copy()\n",
    "        df_temp['cluster'] = cluster_labels\n",
    "        cluster_seen, frac_unique = self._compute_temporal_features(df_temp, cluster_labels)\n",
    "\n",
    "        all_features = np.column_stack([\n",
    "            text_features,\n",
    "            clustering_features,\n",
    "            cluster_seen.reshape(-1, 1),\n",
    "            frac_unique.reshape(-1, 1)\n",
    "        ])\n",
    "\n",
    "        self.feature_names = (\n",
    "            self.text_extractor.get_feature_names_out() +\n",
    "            self.clustering_transformer.get_feature_names_out() +\n",
    "            ['cluster_seen_before', 'fraction_unique_clusters']\n",
    "        )\n",
    "\n",
    "\n",
    "        if eval_set is not None:\n",
    "            X_val_df, y_val = eval_set\n",
    "            val_features = self._prepare_features(X_val_df)\n",
    "            eval_set_processed = [(val_features, y_val)]\n",
    "\n",
    "            self.lgb_model.fit(\n",
    "                all_features, y,\n",
    "                eval_set=eval_set_processed,\n",
    "                eval_metric='mae',\n",
    "                callbacks=[early_stopping(stopping_rounds=50), log_evaluation(50)]\n",
    "            )\n",
    "        else:\n",
    "            self.lgb_model.fit(all_features, y)\n",
    "\n",
    "        self.is_fitted = True\n",
    "        return self\n",
    "\n",
    "    def predict(self, X_df):\n",
    "        \"\"\"Make predictions\"\"\"\n",
    "        if not self.is_fitted:\n",
    "            raise ValueError(\"Model must be fitted before making predictions\")\n",
    "\n",
    "        features = self._prepare_features(X_df)\n",
    "        return self.lgb_model.predict(features)\n",
    "\n",
    "    def get_feature_importance(self):\n",
    "        \"\"\"Get feature importance\"\"\"\n",
    "        if not self.is_fitted:\n",
    "            raise ValueError(\"Model must be fitted before getting feature importance\")\n",
    "\n",
    "        importance_df = pd.DataFrame({\n",
    "            'feature': self.feature_names,\n",
    "            'importance': self.lgb_model.feature_importances_ / self.lgb_model.feature_importances_.sum()\n",
    "        }).sort_values(by='importance', ascending=False)\n",
    "\n",
    "        return importance_df\n",
    "\n",
    "print(\"Single unified model class created successfully.\")"
   ]
  },
  {
   "cell_type": "code",
   "execution_count": 7,
   "id": "5a9a4eab-ed0f-4863-adba-0920be9e9cd9",
   "metadata": {},
   "outputs": [
    {
     "name": "stdout",
     "output_type": "stream",
     "text": [
      "Training set: 1951 samples\n",
      "Test set: 488 samples\n",
      "\n",
      "Training the unified model...\n"
     ]
    },
    {
     "name": "stderr",
     "output_type": "stream",
     "text": [
      "Batches: 100%|██████████████████████████████████| 61/61 [00:40<00:00,  1.50it/s]\n",
      "Batches: 100%|██████████████████████████████████| 16/16 [00:11<00:00,  1.36it/s]\n",
      "huggingface/tokenizers: The current process just got forked, after parallelism has already been used. Disabling parallelism to avoid deadlocks...\n",
      "To disable this warning, you can either:\n",
      "\t- Avoid using `tokenizers` before the fork if possible\n",
      "\t- Explicitly set the environment variable TOKENIZERS_PARALLELISM=(true | false)\n"
     ]
    },
    {
     "name": "stdout",
     "output_type": "stream",
     "text": [
      "[LightGBM] [Info] Auto-choosing row-wise multi-threading, the overhead of testing was 0.000645 seconds.\n",
      "You can set `force_row_wise=true` to remove the overhead.\n",
      "And if memory is not enough, you can set `force_col_wise=true`.\n",
      "[LightGBM] [Info] Total Bins 2252\n",
      "[LightGBM] [Info] Number of data points in the train set: 1951, number of used features: 17\n",
      "[LightGBM] [Info] Start training from score 47.761184\n",
      "Training until validation scores don't improve for 50 rounds\n",
      "[50]\tvalid_0's l1: 24.7327\tvalid_0's l2: 813.956\n",
      "[100]\tvalid_0's l1: 24.4945\tvalid_0's l2: 801.839\n",
      "[150]\tvalid_0's l1: 24.3429\tvalid_0's l2: 795.201\n",
      "[200]\tvalid_0's l1: 24.2132\tvalid_0's l2: 790.754\n",
      "Early stopping, best iteration is:\n",
      "[186]\tvalid_0's l1: 24.2065\tvalid_0's l2: 789.547\n",
      "\n",
      "Model training completed\n"
     ]
    }
   ],
   "source": [
    "# Prepare data for training\n",
    "X_train, X_test, y_train, y_test = train_test_split(\n",
    "    df[['Speech_ID', 'Chunk_ID', 'Chunk']], \n",
    "    df['completed_percentage'], \n",
    "    test_size=0.2, \n",
    "    random_state=42\n",
    ")\n",
    "\n",
    "print(f\"Training set: {len(X_train)} samples\")\n",
    "print(f\"Test set: {len(X_test)} samples\")\n",
    "\n",
    "# Create and train the single model\n",
    "print(\"\\nTraining the unified model...\")\n",
    "speech_model = SpeechCompletionPredictor()\n",
    "speech_model.fit(X_train, y_train, eval_set=(X_test, y_test))\n",
    "\n",
    "print(\"\\nModel training completed\")"
   ]
  },
  {
   "cell_type": "code",
   "execution_count": 8,
   "id": "d89042bb-62a0-48f8-9cf8-5b64930b8928",
   "metadata": {},
   "outputs": [
    {
     "name": "stderr",
     "output_type": "stream",
     "text": [
      "Batches: 100%|██████████████████████████████████| 61/61 [00:39<00:00,  1.54it/s]\n",
      "Batches: 100%|██████████████████████████████████| 16/16 [00:10<00:00,  1.47it/s]\n"
     ]
    },
    {
     "name": "stdout",
     "output_type": "stream",
     "text": [
      "\n",
      "Model Performance:\n",
      "Training MAE: 20.2074\n",
      "Test MAE: 24.2065\n",
      "Training R²: 0.3359\n",
      "Test R²: 0.0588\n"
     ]
    }
   ],
   "source": [
    "y_train_pred = speech_model.predict(X_train)\n",
    "y_test_pred = speech_model.predict(X_test)\n",
    "\n",
    "# Calculate metrics\n",
    "train_mae = mean_absolute_error(y_train, y_train_pred)\n",
    "test_mae = mean_absolute_error(y_test, y_test_pred)\n",
    "train_r2 = r2_score(y_train, y_train_pred)\n",
    "test_r2 = r2_score(y_test, y_test_pred)\n",
    "\n",
    "print(f\"\\nModel Performance:\")\n",
    "print(f\"Training MAE: {train_mae:.4f}\")\n",
    "print(f\"Test MAE: {test_mae:.4f}\")\n",
    "print(f\"Training R²: {train_r2:.4f}\")\n",
    "print(f\"Test R²: {test_r2:.4f}\")"
   ]
  },
  {
   "cell_type": "code",
   "execution_count": 9,
   "id": "f6516b47-d740-4e0f-9289-a85291e98711",
   "metadata": {},
   "outputs": [
    {
     "name": "stdout",
     "output_type": "stream",
     "text": [
      "\n",
      "Top 10 Most Important Features:\n",
      "                     feature  importance\n",
      "12                     pca_5    0.131720\n",
      "9                      pca_2    0.125986\n",
      "11                     pca_4    0.119534\n",
      "8                      pca_1    0.096057\n",
      "13                   cluster    0.084767\n",
      "10                     pca_3    0.079211\n",
      "1                  num_chars    0.065233\n",
      "16  fraction_unique_clusters    0.062724\n",
      "7      fraction_unique_words    0.061470\n",
      "0                  num_words    0.055018\n"
     ]
    },
    {
     "data": {
      "text/plain": [
       "<function matplotlib.pyplot.show(close=None, block=None)>"
      ]
     },
     "execution_count": 9,
     "metadata": {},
     "output_type": "execute_result"
    },
    {
     "data": {
      "image/png": "[encoded data removed]",
      "text/plain": [
       "<Figure size 1200x800 with 1 Axes>"
      ]
     },
     "metadata": {},
     "output_type": "display_data"
    }
   ],
   "source": [
    "feature_importance = speech_model.get_feature_importance()\n",
    "\n",
    "print(\"\\nTop 10 Most Important Features:\")\n",
    "print(feature_importance.head(10))\n",
    "\n",
    "# Plot feature importance\n",
    "plt.figure(figsize=(12, 8))\n",
    "sns.barplot(data=feature_importance.head(15), x='importance', y='feature', palette='viridis')\n",
    "plt.title(\"Top 15 Feature Importance\")\n",
    "plt.xlabel(\"Importance Score\")\n",
    "plt.ylabel(\"Feature\")\n",
    "plt.tight_layout()\n",
    "plt.savefig(os.path.join(results_path, 'feature_importance.png'), dpi=300, bbox_inches='tight')\n",
    "plt.show"
   ]
  },
  {
   "cell_type": "code",
   "execution_count": 10,
   "id": "43effecd-6d48-4da2-9dec-90a2cbda67c6",
   "metadata": {},
   "outputs": [
    {
     "name": "stdout",
     "output_type": "stream",
     "text": [
      "\n",
      "=== MODEL SAVING COMPLETE ===\n",
      "Model saved to: ../model/speech_completion_clustering_model.pkl\n",
      "Metadata saved to: ../model/model_metadata.pkl\n",
      "Feature importance saved to: ../results/feature_importance.csv\n",
      "\n",
      "Final Model Performance:\n",
      "Test MAE: 24.2065\n",
      "Test R²: 0.0588\n",
      "Number of features: 17\n"
     ]
    }
   ],
   "source": [
    "# Save the complete model\n",
    "model_filename = os.path.join(model_path, 'speech_completion_clustering_model.pkl')\n",
    "joblib.dump(speech_model, model_filename)\n",
    "\n",
    "# Save model metadata\n",
    "model_metadata = {\n",
    "    'model_type': 'SpeechCompletionPredictor',\n",
    "    'training_samples': len(X_train),\n",
    "    'test_samples': len(X_test),\n",
    "    'features': speech_model.feature_names,\n",
    "    'performance': {\n",
    "        'train_mae': train_mae,\n",
    "        'test_mae': test_mae,\n",
    "        'train_r2': train_r2,\n",
    "        'test_r2': test_r2\n",
    "    },\n",
    "    'feature_importance': feature_importance.to_dict('records')\n",
    "}\n",
    "\n",
    "metadata_filename = os.path.join(model_path, 'model_metadata.pkl')\n",
    "joblib.dump(model_metadata, metadata_filename)\n",
    "\n",
    "# Save feature importance as CSV\n",
    "feature_importance.to_csv(os.path.join(results_path, 'feature_importance.csv'), index=False)\n",
    "\n",
    "print(f\"\\n=== MODEL SAVING COMPLETE ===\")\n",
    "print(f\"Model saved to: {model_filename}\")\n",
    "print(f\"Metadata saved to: {metadata_filename}\")\n",
    "print(f\"Feature importance saved to: {os.path.join(results_path, 'feature_importance.csv')}\")\n",
    "print(f\"\\nFinal Model Performance:\")\n",
    "print(f\"Test MAE: {test_mae:.4f}\")\n",
    "print(f\"Test R²: {test_r2:.4f}\")\n",
    "print(f\"Number of features: {len(speech_model.feature_names)}\")"
   ]
  }
 ],
 "metadata": {
  "kernelspec": {
   "display_name": "Python 3 (ipykernel)",
   "language": "python",
   "name": "python3"
  },
  "language_info": {
   "codemirror_mode": {
    "name": "ipython",
    "version": 3
   },
   "file_extension": ".py",
   "mimetype": "text/x-python",
   "name": "python",
   "nbconvert_exporter": "python",
   "pygments_lexer": "ipython3",
   "version": "3.13.5"
  }
 },
 "nbformat": 4,
 "nbformat_minor": 5
}
