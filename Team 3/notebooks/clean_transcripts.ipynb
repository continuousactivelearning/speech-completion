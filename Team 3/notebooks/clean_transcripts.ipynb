{
 "cells": [
  {
   "cell_type": "code",
   "execution_count": 1,
   "id": "b9834835-9955-4dd5-b592-ecca86f6f9fe",
   "metadata": {},
   "outputs": [],
   "source": [
    "import pandas as pd\n",
    "\n",
    "df = pd.read_csv(\"../data/raw/Speech_Completion_Prediction_Dataset.csv\")"
   ]
  },
  {
   "cell_type": "code",
   "execution_count": 2,
   "id": "f03e2eb9-078e-4748-be0a-0e3067708e51",
   "metadata": {},
   "outputs": [],
   "source": [
    "df = df.loc[:, ~df.columns.str.contains('^Unnamed')]\n"
   ]
  },
  {
   "cell_type": "code",
   "execution_count": 3,
   "id": "73b38e37-cca7-4366-b589-9f38110e46ca",
   "metadata": {},
   "outputs": [],
   "source": [
    "df['Transcript'] = df['Transcript'].str.replace(r'\\s+', ' ', regex=True).str.strip()"
   ]
  },
  {
   "cell_type": "code",
   "execution_count": 4,
   "id": "63126d03-9eab-4507-abbe-c7a3a2c7fc90",
   "metadata": {},
   "outputs": [
    {
     "name": "stdout",
     "output_type": "stream",
     "text": [
      "Cleaned transcript saved.\n"
     ]
    }
   ],
   "source": [
    "df.to_csv('../data/cleaned/transcripts_cleaned.csv', index=False)\n",
    "print(\"Cleaned transcript saved.\")"
   ]
  }
 ],
 "metadata": {
  "kernelspec": {
   "display_name": "Python 3 (ipykernel)",
   "language": "python",
   "name": "python3"
  },
  "language_info": {
   "codemirror_mode": {
    "name": "ipython",
    "version": 3
   },
   "file_extension": ".py",
   "mimetype": "text/x-python",
   "name": "python",
   "nbconvert_exporter": "python",
   "pygments_lexer": "ipython3",
   "version": "3.13.5"
  }
 },
 "nbformat": 4,
 "nbformat_minor": 5
}
